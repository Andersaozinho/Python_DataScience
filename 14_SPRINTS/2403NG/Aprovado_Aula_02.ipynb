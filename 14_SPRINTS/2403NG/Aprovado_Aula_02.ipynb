{
  "nbformat": 4,
  "nbformat_minor": 0,
  "metadata": {
    "colab": {
      "provenance": []
    },
    "kernelspec": {
      "name": "python3",
      "display_name": "Python 3"
    },
    "language_info": {
      "name": "python"
    }
  },
  "cells": [
    {
      "cell_type": "code",
      "execution_count": 16,
      "metadata": {
        "colab": {
          "base_uri": "https://localhost:8080/"
        },
        "id": "hvwxvR9NWI7R",
        "outputId": "64a306c0-34da-494c-cb09-319d55ed35c3"
      },
      "outputs": [
        {
          "name": "stdout",
          "output_type": "stream",
          "text": [
            "Digite a qtd de horas do curso: 10\n"
          ]
        }
      ],
      "source": [
        "totalhoras=int(input ('Digite a qtd de horas do curso: '))\n"
      ]
    },
    {
      "cell_type": "code",
      "source": [
        "totalfaltas=(totalhoras*25)/100\n",
        "print(totalfaltas)\n",
        "\n",
        "Qtdtotalfaltas=float (input ('Digite a qtd de Horas vd faltou: '))\n",
        "\n",
        "if totalfaltas < Qtdtotalfaltas:\n",
        "  print ('Você está aprovado, boa sorte! As faltas permitida são', totalfaltas)\n",
        "else:\n",
        "  print ('Reprovado')\n",
        "\n",
        "\n"
      ],
      "metadata": {
        "colab": {
          "base_uri": "https://localhost:8080/"
        },
        "id": "aWKB0r8GYiVk",
        "outputId": "77802d32-2c0b-4f12-8d82-4ec1c49f82e8"
      },
      "execution_count": 17,
      "outputs": [
        {
          "output_type": "stream",
          "name": "stdout",
          "text": [
            "2.5\n",
            "Digite a qtd de Horas vd faltou: 50\n",
            "Você está aprovado, boa sorte! As faltas permitida são 2.5\n"
          ]
        }
      ]
    },
    {
      "cell_type": "code",
      "source": [],
      "metadata": {
        "id": "qCGjLo1kb23U"
      },
      "execution_count": 17,
      "outputs": []
    }
  ]
}