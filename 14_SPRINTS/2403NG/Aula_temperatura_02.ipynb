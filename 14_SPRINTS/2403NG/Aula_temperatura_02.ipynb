{
  "nbformat": 4,
  "nbformat_minor": 0,
  "metadata": {
    "colab": {
      "provenance": []
    },
    "kernelspec": {
      "name": "python3",
      "display_name": "Python 3"
    },
    "language_info": {
      "name": "python"
    }
  },
  "cells": [
    {
      "cell_type": "code",
      "source": [],
      "metadata": {
        "id": "or8y8qOsNlcD"
      },
      "execution_count": null,
      "outputs": []
    },
    {
      "cell_type": "code",
      "execution_count": 17,
      "metadata": {
        "colab": {
          "base_uri": "https://localhost:8080/"
        },
        "id": "K_-qEbs3MHvD",
        "outputId": "08a3c995-48ce-4f02-ab63-fd6cf5d68f09"
      },
      "outputs": [
        {
          "name": "stdout",
          "output_type": "stream",
          "text": [
            "Digite a temperatura20\n"
          ]
        }
      ],
      "source": [
        "#Definição temperatura\n",
        "temp=int (input('Digite a temperatura'))"
      ]
    },
    {
      "cell_type": "code",
      "source": [
        "#Avaliar se a temperatura está ok\n",
        "if temp<10:\n",
        "  print('Está frio pra garaiiooo !  :(')\n",
        "elif temp >=10 and temp <20:\n",
        "  print('Está frio, mas dá! :K')\n",
        "elif temp >=20 and temp <34:\n",
        "  print('Agora sim! : )')\n",
        "else:\n",
        "  print('Está quente')"
      ],
      "metadata": {
        "colab": {
          "base_uri": "https://localhost:8080/"
        },
        "id": "U5cY14UZNSlP",
        "outputId": "b4059853-2d6d-41fd-fe31-7cd2e420d916"
      },
      "execution_count": 18,
      "outputs": [
        {
          "output_type": "stream",
          "name": "stdout",
          "text": [
            "Agora sim! : )\n"
          ]
        }
      ]
    },
    {
      "cell_type": "markdown",
      "source": [],
      "metadata": {
        "id": "syOYzODDOcCB"
      }
    }
  ]
}